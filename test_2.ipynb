{
 "cells": [
  {
   "cell_type": "code",
   "execution_count": 10,
   "id": "eeb05db7",
   "metadata": {},
   "outputs": [
    {
     "name": "stdout",
     "output_type": "stream",
     "text": [
      "🌍 País base eliminado por drop_first=True: {'Solomon Islands', 'Monaco', 'Djibouti', 'Swaziland', 'Afghanistan', 'Belize', 'Guinea-Bissau', 'North Korea', 'Micronesia, Federated States of...', 'Niger', 'Nauru', 'Chad', 'Equatorial Guinea', 'Bahamas', 'Liberia', 'Gabon', 'Saint Kitts and Nevis', 'Dominica', 'Guinea', 'San Marino', 'Papua New Guinea'}\n"
     ]
    }
   ],
   "source": [
    "todos_los_paises = set(df[\"Country\"].dropna().unique())\n",
    "paises_modelo = set([col.replace(\"Country_\", \"\") for col in columnas if col.startswith(\"Country_\")])\n",
    "pais_base = todos_los_paises - paises_modelo\n",
    "\n",
    "print(\"🌍 País base eliminado por drop_first=True:\", pais_base)\n"
   ]
  },
  {
   "cell_type": "code",
   "execution_count": 4,
   "id": "29b7beda",
   "metadata": {},
   "outputs": [
    {
     "name": "stdout",
     "output_type": "stream",
     "text": [
      "🌍 País base eliminado por drop_first=True: {'Solomon Islands', 'Monaco', 'Djibouti', 'Swaziland', 'Afghanistan', 'Belize', 'Guinea-Bissau', 'North Korea', 'Micronesia, Federated States of...', 'Niger', 'Nauru', 'Chad', 'Equatorial Guinea', 'Bahamas', 'Liberia', 'Gabon', 'Saint Kitts and Nevis', 'Dominica', 'Guinea', 'San Marino', 'Papua New Guinea'}\n"
     ]
    }
   ],
   "source": [
    "import pandas as pd\n",
    "import joblib\n",
    "\n",
    "# Cargar datos limpios antes de dummies\n",
    "df = pd.read_csv(\"data/survey_results_public.csv\")  # el CSV original con columnas como \"Country\"\n",
    "\n",
    "# Cargar columnas del modelo\n",
    "columnas = joblib.load(\"modelos/columnas_entrenamiento.pkl\")\n",
    "\n",
    "# Detectar país base eliminado por drop_first=True\n",
    "todos_los_paises = set(df[\"Country\"].dropna().unique())\n",
    "paises_modelo = set([col.replace(\"Country_\", \"\") for col in columnas if col.startswith(\"Country_\")])\n",
    "pais_base = todos_los_paises - paises_modelo\n",
    "\n",
    "print(\"🌍 País base eliminado por drop_first=True:\", pais_base)\n"
   ]
  }
 ],
 "metadata": {
  "kernelspec": {
   "display_name": "venv",
   "language": "python",
   "name": "python3"
  },
  "language_info": {
   "codemirror_mode": {
    "name": "ipython",
    "version": 3
   },
   "file_extension": ".py",
   "mimetype": "text/x-python",
   "name": "python",
   "nbconvert_exporter": "python",
   "pygments_lexer": "ipython3",
   "version": "3.13.3"
  }
 },
 "nbformat": 4,
 "nbformat_minor": 5
}
